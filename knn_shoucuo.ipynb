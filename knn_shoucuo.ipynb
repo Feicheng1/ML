{
 "cells": [
  {
   "cell_type": "code",
   "execution_count": 1,
   "id": "73ef609f",
   "metadata": {},
   "outputs": [],
   "source": [
    "import numpy as np\n",
    "\n",
    "def DataSet():\n",
    "    group = np.array([[3, 104], [2, 100], [1, 81], [101, 10], [99, 5], [98, 2]])\n",
    "    labels = ['love', 'love', 'love', 'action', 'action', 'action']\n",
    "    return group, labels\n",
    "def KNN(in_x,x_labels,y_labels,k):\n",
    "    x_labels_size = x_labels.shape[0]\n",
    "    # 计算距离\n",
    "    distance = np.tile(in_x, (x_labels_size, 1)) - x_labels\n",
    "    distance = distance ** 2\n",
    "    distance = distance.sum(axis=1) ** 0.5\n",
    "    # 排序\n",
    "    sorted_distance = distance.argsort()\n",
    "    class_count = {}\n",
    "    # 选择k个距离最小的点\n",
    "    for i in range(k):\n",
    "        vote_label = y_labels[sorted_distance[i]]\n",
    "        class_count[vote_label] = class_count.get(vote_label, 0) + 1\n",
    "    # 排序\n",
    "    sorted_class_count = sorted(class_count.items(), key=lambda x: x[1], reverse=True)\n",
    "    return sorted_class_count[0][0]\n",
    "\n",
    "    \n"
   ]
  },
  {
   "cell_type": "code",
   "execution_count": 2,
   "id": "58c436c7",
   "metadata": {},
   "outputs": [
    {
     "name": "stdout",
     "output_type": "stream",
     "text": [
      "love\n"
     ]
    }
   ],
   "source": [
    "group,labels = DataSet()\n",
    "test_x = [18,90]\n",
    "print(KNN(test_x, group, labels, 3)) # love"
   ]
  }
 ],
 "metadata": {
  "kernelspec": {
   "display_name": "Python 3",
   "language": "python",
   "name": "python3"
  },
  "language_info": {
   "codemirror_mode": {
    "name": "ipython",
    "version": 3
   },
   "file_extension": ".py",
   "mimetype": "text/x-python",
   "name": "python",
   "nbconvert_exporter": "python",
   "pygments_lexer": "ipython3",
   "version": "3.10.16"
  }
 },
 "nbformat": 4,
 "nbformat_minor": 5
}
